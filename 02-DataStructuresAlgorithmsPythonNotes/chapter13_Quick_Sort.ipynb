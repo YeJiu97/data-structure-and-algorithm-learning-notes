{
 "cells": [
  {
   "cell_type": "markdown",
   "id": "55e69a9e-f235-43dc-b7de-c3223d503e4a",
   "metadata": {},
   "source": [
    "## Quick Sort 介绍"
   ]
  },
  {
   "cell_type": "markdown",
   "id": "aad7608e-1358-4309-9412-bc4db5b47940",
   "metadata": {},
   "source": [
    "算法的思路如下所示：\n",
    "\n",
    "1. 从数列中挑出一个元素，称为 \"基准\"（pivot）\n",
    "2. 重新排序数列，所有元素比基准值小的摆放在基准前面，所有元素比基准值大的摆在基准的后面\n",
    "3. 这个分区退出之后，该基准就处于数列的中间位置。这个称为分区（partition）操作\n",
    "4. 递归地（recursive）把小于基准值元素的子数列和大于基准值元素的子数列排序"
   ]
  },
  {
   "cell_type": "markdown",
   "id": "d49fb5f6-4602-43fc-b059-1f94dff77623",
   "metadata": {},
   "source": [
    "## Swap Code"
   ]
  },
  {
   "cell_type": "code",
   "execution_count": 1,
   "id": "121d0aa4-8e6a-4f88-92f4-d089f5ce68cf",
   "metadata": {},
   "outputs": [],
   "source": [
    "# swap 函数将会将列表中的两个元素进行互换\n",
    "def swap(my_list, index1, index2):\n",
    "    temp = my_list[index1]\n",
    "    my_list[index1] = my_list[index2]\n",
    "    my_list[index2] = temp"
   ]
  },
  {
   "cell_type": "markdown",
   "id": "116c731d-58cb-4e45-9d2f-ecca12020d75",
   "metadata": {},
   "source": [
    "## Pivot Code"
   ]
  },
  {
   "cell_type": "code",
   "execution_count": 3,
   "id": "72b13ed7-c5a3-4b9f-9f3b-8c5d0212c76b",
   "metadata": {},
   "outputs": [],
   "source": [
    "def pivot(my_list, pivot_index, end_index):\n",
    "    \n",
    "    swap_index = pivot_index  # 设置基准点\n",
    "    \n",
    "    for i in range(pivot_index+1, end_index+1):\n",
    "        if my_list[i] < my_list[pivot_index]:\n",
    "            swap_index += 1\n",
    "            swap(my_list, swap_index, i)\n",
    "    swap(my_list, pivot_index, swap_index)\n",
    "    \n",
    "    return swap_index"
   ]
  },
  {
   "cell_type": "markdown",
   "id": "ce8b237c-36ce-43b6-ab90-a6378f1246c1",
   "metadata": {},
   "source": [
    "## Quick Sort Code"
   ]
  },
  {
   "cell_type": "code",
   "execution_count": 7,
   "id": "ef6d8ea2-43be-448c-ad6e-33acd81a0e23",
   "metadata": {},
   "outputs": [],
   "source": [
    "def quick_sort(my_list, left, right):\n",
    "    if left < right:\n",
    "        pivot_index = pivot(my_list, left, right)\n",
    "        quick_sort(my_list, left, pivot_index - 1)\n",
    "        quick_sort(my_list, pivot_index + 1, right)\n",
    "    return my_list"
   ]
  },
  {
   "cell_type": "markdown",
   "id": "8eaba84e-e9b1-471d-98f8-7bc546dc6786",
   "metadata": {},
   "source": [
    "## 测试"
   ]
  },
  {
   "cell_type": "code",
   "execution_count": 8,
   "id": "2583502f-ab31-4080-ab2d-fff5dbe11b89",
   "metadata": {},
   "outputs": [
    {
     "name": "stdout",
     "output_type": "stream",
     "text": [
      "[2, 3, 4, 5, 6, 7, 8]\n"
     ]
    }
   ],
   "source": [
    "print(quick_sort([4, 5, 6, 7, 8, 3, 2], 0, 6))"
   ]
  },
  {
   "cell_type": "markdown",
   "id": "9bc4e76c-95bd-4292-8f54-75ea60587643",
   "metadata": {},
   "source": [
    "## 另一种写法"
   ]
  },
  {
   "cell_type": "code",
   "execution_count": 9,
   "id": "acaf54db-f364-4a03-92f2-fbd5a7365c55",
   "metadata": {},
   "outputs": [
    {
     "name": "stdout",
     "output_type": "stream",
     "text": [
      "[1, 2, 3, 9, 10, 11, 12, 22, 33, 78]\n"
     ]
    }
   ],
   "source": [
    "# 左小右大函数，获取一个中值，左放小右放大函数\n",
    "def partition(arr, low, high):       #参数：列表，列表的第一个索引0，最后一个索引值N\n",
    "    \"\"\"\n",
    "    【左小右大函数】\n",
    "    实现结果：提取列表中的最后一个元素为被比较值，≤该元素的值放在左边，＞该元素的值放在右边\n",
    "    实现过程：≤最后一个元素的所有元素依次放在左边索引0~i的位置，然后将最后一个元素放在索引i的位置，实现结果\n",
    "    arr: 列表\n",
    "    low: arr的第一个索引：0\n",
    "    high: arr的最后一个索引：high\n",
    "    return: i，即被比较值所在的索引位置\n",
    "    \"\"\"\n",
    "    i = low                                       # 最小元素索引\n",
    "    pivot = arr[high]                             # 最后一个元素，我们把列表中的所有元素同它比较\n",
    "\n",
    "    for j in range(low, high):                    #从第一个索引到倒数第二个索引\n",
    "        if arr[j] <= pivot:                       #从第一个元素到倒数第二个元素依次判断是否≤最后一个元素\n",
    "            arr[i], arr[j] = arr[j], arr[i]       #≤最后一个元素的所有元素依次放在左边索引0~i的位置\n",
    "            i = i + 1\n",
    "    arr[i], arr[high] = arr[high], arr[i]         #然后将最后一个元素放在索引i的位置，实现：该元素左边的都比它小，右边的都比它大的排序\n",
    "    return (i)                                    #返回该元素的索引位置\n",
    "\n",
    "\n",
    "# 快速排序函数\n",
    "def quickSort(arr, low, high):\n",
    "    if low < high:                                #如果列表有1个以上的元素\n",
    "        pi = partition(arr, low, high)            #获取左小右大函数中的 被比较数所在的索引\n",
    "\n",
    "        quickSort(arr, low, pi - 1)            #反复循环，左排序\n",
    "        quickSort(arr, pi + 1, high)           #反复循环，右排序\n",
    "\n",
    "arr = [10,22,78,3,12,9,1,11,33,2]\n",
    "low = 0\n",
    "high = len(arr)-1\n",
    "quickSort(arr, low, high)\n",
    "print(arr)"
   ]
  }
 ],
 "metadata": {
  "kernelspec": {
   "display_name": "Python 3 (ipykernel)",
   "language": "python",
   "name": "python3"
  },
  "language_info": {
   "codemirror_mode": {
    "name": "ipython",
    "version": 3
   },
   "file_extension": ".py",
   "mimetype": "text/x-python",
   "name": "python",
   "nbconvert_exporter": "python",
   "pygments_lexer": "ipython3",
   "version": "3.10.4"
  }
 },
 "nbformat": 4,
 "nbformat_minor": 5
}
