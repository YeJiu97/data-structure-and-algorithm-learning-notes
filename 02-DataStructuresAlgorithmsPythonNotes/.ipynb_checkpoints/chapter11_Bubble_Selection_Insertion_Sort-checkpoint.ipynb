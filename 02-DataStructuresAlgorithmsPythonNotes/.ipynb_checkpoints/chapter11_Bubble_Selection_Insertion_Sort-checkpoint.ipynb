{
 "cells": [
  {
   "cell_type": "markdown",
   "id": "224e2146-c2c9-416e-ac8b-5b4d4f48b3e6",
   "metadata": {},
   "source": [
    "## Bubble Sort"
   ]
  },
  {
   "cell_type": "code",
   "execution_count": 2,
   "id": "45647cd8-e7a2-494d-9429-23d12c50fa61",
   "metadata": {},
   "outputs": [],
   "source": [
    "def bubble_sort(my_list):\n",
    "    for i in range(len(my_list)-1, 0, -1):  # 遍历为list的长度-1\n",
    "        for j in range(i):  # 进行遍历\n",
    "            if my_list[j] > my_list[j+1]:  # 当前的元素是否大于了当前的元素的下一个元素\n",
    "                temp = my_list[j]\n",
    "                my_list[j] = my_list[j+1]\n",
    "                my_list[j+1] = temp\n",
    "    return my_list"
   ]
  },
  {
   "cell_type": "code",
   "execution_count": 3,
   "id": "5226cb4a-0204-44ea-9359-0c49decc6748",
   "metadata": {},
   "outputs": [
    {
     "data": {
      "text/plain": [
       "[1, 2, 3, 4, 5, 6, 7, 8, 9]"
      ]
     },
     "execution_count": 3,
     "metadata": {},
     "output_type": "execute_result"
    }
   ],
   "source": [
    "# 测试一下\n",
    "\n",
    "bubble_sort([9, 6, 7, 8, 2, 4, 3, 1, 5])"
   ]
  },
  {
   "cell_type": "markdown",
   "id": "003fc5e5-c228-4ac5-bfcd-ed0b9a437d95",
   "metadata": {},
   "source": [
    "## Selection Sort"
   ]
  },
  {
   "cell_type": "code",
   "execution_count": 7,
   "id": "f18cbd82-3d6c-4848-8a27-1ecc6137d462",
   "metadata": {},
   "outputs": [],
   "source": [
    "def selection_sort(my_list):\n",
    "    for i in range(len(my_list) - 1):  # 对整个列表进行遍历\n",
    "        min_index = i  # 设置一个min_index作为pivot\n",
    "        for j in range(i+1, len(my_list)):  # 从这个元素的下一个元素开始进行遍历\n",
    "            if my_list[j] < my_list[min_index]:  # 如果min_index指向的元素大于j指向的元素\n",
    "                min_index = j  # 让min_inde设置为j\n",
    "        temp = my_list[i]\n",
    "        my_list[i] = my_list[min_index]\n",
    "        my_list[min_index] = temp\n",
    "\n",
    "    return my_list"
   ]
  },
  {
   "cell_type": "code",
   "execution_count": 8,
   "id": "00c59d9e-fc0e-499b-9194-6198a636bafc",
   "metadata": {},
   "outputs": [
    {
     "data": {
      "text/plain": [
       "[1, 2, 3, 4, 5, 6, 7, 8, 9]"
      ]
     },
     "execution_count": 8,
     "metadata": {},
     "output_type": "execute_result"
    }
   ],
   "source": [
    "selection_sort([9, 2, 4, 5, 6, 8, 7, 1, 3])"
   ]
  },
  {
   "cell_type": "markdown",
   "id": "662aabbf-236d-4b03-8e30-7c61b78b71fd",
   "metadata": {},
   "source": [
    "## Insertion Sort"
   ]
  },
  {
   "cell_type": "code",
   "execution_count": 16,
   "id": "aa847c06-8fd0-4aa5-b790-1fde30a2c4ab",
   "metadata": {},
   "outputs": [],
   "source": [
    "def insertion_sort(my_list):\n",
    "    for i in range(1, len(my_list)):\n",
    "        temp = my_list[i]\n",
    "        j = i-1\n",
    "        \n",
    "        while temp < my_list[j] and j> -1:\n",
    "            my_list[j+1] = my_list[j]\n",
    "            my_list[j] = temp\n",
    "            j -= 1\n",
    "    return my_list"
   ]
  },
  {
   "cell_type": "code",
   "execution_count": 17,
   "id": "a2be93c1-4ece-4067-8be4-64e256d3f835",
   "metadata": {},
   "outputs": [
    {
     "data": {
      "text/plain": [
       "[1, 2, 3, 4, 5, 6, 7, 8, 9]"
      ]
     },
     "execution_count": 17,
     "metadata": {},
     "output_type": "execute_result"
    }
   ],
   "source": [
    "insertion_sort([5, 3, 2, 6, 7, 9, 8, 1, 4])"
   ]
  }
 ],
 "metadata": {
  "kernelspec": {
   "display_name": "Python 3 (ipykernel)",
   "language": "python",
   "name": "python3"
  },
  "language_info": {
   "codemirror_mode": {
    "name": "ipython",
    "version": 3
   },
   "file_extension": ".py",
   "mimetype": "text/x-python",
   "name": "python",
   "nbconvert_exporter": "python",
   "pygments_lexer": "ipython3",
   "version": "3.10.4"
  }
 },
 "nbformat": 4,
 "nbformat_minor": 5
}
