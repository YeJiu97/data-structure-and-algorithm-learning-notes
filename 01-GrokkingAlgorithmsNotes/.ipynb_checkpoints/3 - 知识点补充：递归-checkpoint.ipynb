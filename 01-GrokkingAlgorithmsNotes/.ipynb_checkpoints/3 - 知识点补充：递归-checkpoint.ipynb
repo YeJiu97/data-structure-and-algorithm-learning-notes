{
 "cells": [
  {
   "cell_type": "markdown",
   "id": "f8a08ce1",
   "metadata": {},
   "source": [
    "## 什么是递归\n",
    "\n",
    "Python语言中，一个函数可以调用其他函数，也可以调用这个函数自身，对于调用自身的函数，我们把它称之为叫做递归函数。\n",
    "\n",
    "我们以阶乘为例："
   ]
  },
  {
   "cell_type": "code",
   "execution_count": 2,
   "id": "ec127258",
   "metadata": {},
   "outputs": [],
   "source": [
    "# 5! = 5*4*3*2*1\n",
    "\n",
    "def factorial(x):\n",
    "    '''这是一个求取整数阶乘的函数'''\n",
    "    \n",
    "    if x == 1:\n",
    "        return 1;\n",
    "    else:\n",
    "        return (x * factorial(x-1))  # 调用自身函数，并且每次传递的值-1 "
   ]
  },
  {
   "cell_type": "code",
   "execution_count": 3,
   "id": "d1825524",
   "metadata": {},
   "outputs": [
    {
     "data": {
      "text/plain": [
       "3628800"
      ]
     },
     "execution_count": 3,
     "metadata": {},
     "output_type": "execute_result"
    }
   ],
   "source": [
    "# 我们来试着调用这个函数\n",
    "\n",
    "factorial(10)"
   ]
  },
  {
   "cell_type": "markdown",
   "id": "94f309b3",
   "metadata": {},
   "source": [
    "对于这个函数：\n",
    "1. 首先会传递一个x形式参数\n",
    "2. 如果这个形式参数的值为1，则返回1\n",
    "3. 如果这个形式参数的值大于1，则调用函数本身\n",
    "4. 调用该的函数传递的参数值每次减去1\n",
    "5. 对自身的调用将会在x的值为1的时候结束"
   ]
  },
  {
   "cell_type": "markdown",
   "id": "2a87db56",
   "metadata": {},
   "source": [
    "递归的优点有：\n",
    "\n",
    "1. 递归函数使代码看起来干净整洁。\n",
    "2. 使用递归可以将复杂的任务分解为更简单的子问题。\n",
    "3. 与使用嵌套嵌套相比，使用递归更容易生成序列。\n",
    "\n",
    "递归的缺点是：\n",
    "\n",
    "1. 递归背后的逻辑很难遵循\n",
    "2. 递归调用很昂贵（效率低），因为它们占用大量内存和时间\n",
    "3. 递归函数很难调试"
   ]
  },
  {
   "cell_type": "markdown",
   "id": "ac90d702",
   "metadata": {},
   "source": [
    "## 斐波那契数列\n",
    "\n",
    "斐波那契数列，指的是这样一个数列：1、1、2、3、5、8、13、21、34、……，这个数列从第3项开始，每一项都等于前两项之和。\n",
    "\n",
    "比如说2是1+1,3是1+2,5是2+3。\n",
    "\n",
    "我们可以使用递归来实现斐波那契数列："
   ]
  },
  {
   "cell_type": "code",
   "execution_count": 4,
   "id": "5edaf60d",
   "metadata": {},
   "outputs": [
    {
     "name": "stdout",
     "output_type": "stream",
     "text": [
      "您要输出几项? 25\n",
      "斐波那契数列:\n",
      "0\n",
      "1\n",
      "1\n",
      "2\n",
      "3\n",
      "5\n",
      "8\n",
      "13\n",
      "21\n",
      "34\n",
      "55\n",
      "89\n",
      "144\n",
      "233\n",
      "377\n",
      "610\n",
      "987\n",
      "1597\n",
      "2584\n",
      "4181\n",
      "6765\n",
      "10946\n",
      "17711\n",
      "28657\n",
      "46368\n"
     ]
    }
   ],
   "source": [
    "def recur_fibo(n):\n",
    "    \"\"\"递归函数实现斐波那契数列\"\"\"\n",
    "    \n",
    "    if n == 1:\n",
    "        return 1\n",
    "    elif n==2:\n",
    "        return 1\n",
    "    elif n <= 0:\n",
    "        return 0\n",
    "    else:\n",
    "        return (recur_fibo(n-1)+recur_fibo(n-2))\n",
    "\n",
    "# 获取用户输入\n",
    "nterms = int(input(\"您要输出几项? \"))\n",
    " \n",
    "# 检查输入的数字是否正确\n",
    "if nterms <= 0:\n",
    "   print(\"输入正数\")\n",
    "else:\n",
    "   print(\"斐波那契数列:\")\n",
    "   for i in range(nterms):\n",
    "       print(recur_fibo(i))"
   ]
  },
  {
   "cell_type": "markdown",
   "id": "baf60a48",
   "metadata": {},
   "source": [
    "如果n是第一项，则是返回1，若是第二项，则是返回1，若是超过第二项，则被是做是前两项的相加。"
   ]
  },
  {
   "cell_type": "markdown",
   "id": "f8444554",
   "metadata": {},
   "source": [
    "除了递归，我们还有一种方法就是递推："
   ]
  },
  {
   "cell_type": "code",
   "execution_count": 5,
   "id": "7c86aa33",
   "metadata": {},
   "outputs": [
    {
     "name": "stdout",
     "output_type": "stream",
     "text": [
      "25\n",
      "1 1 2 3 5 8 13 21 34 55 89 144 233 377 610 987 1597 2584 4181 6765 10946 17711 28657 46368 75025 "
     ]
    }
   ],
   "source": [
    "def fib_loop(n):\n",
    "    a,b=0,1\n",
    "    for i in range(n+1):\n",
    "        a,b=b,a+b\n",
    "    return a\n",
    "\n",
    "num = int(input())\n",
    "\n",
    "for i in range(num):\n",
    "    print(fib_loop(i),end=' ')"
   ]
  },
  {
   "cell_type": "markdown",
   "id": "72f5079f",
   "metadata": {},
   "source": [
    "## 斐波那契数列-列表\n",
    "\n",
    "我们可以使用列表的方式来对斐波那契数列进行递推："
   ]
  },
  {
   "cell_type": "code",
   "execution_count": 6,
   "id": "4151a62e",
   "metadata": {},
   "outputs": [
    {
     "name": "stdout",
     "output_type": "stream",
     "text": [
      "请输入第几项：25\n",
      "[1, 2, 3, 5, 8, 13, 21, 34, 55, 89, 144, 233, 377, 610, 987, 1597, 2584, 4181, 6765, 10946, 17711, 28657, 46368, 75025, 121393]\n"
     ]
    }
   ],
   "source": [
    "data_list = [1, 2]\n",
    "\n",
    "num = int(input(\"请输入第几项：\"))\n",
    "\n",
    "for i in range(2, num):\n",
    "\tdata_list.append(data_list[i-1]+data_list[i-2])\n",
    "\n",
    "print(data_list)"
   ]
  }
 ],
 "metadata": {
  "kernelspec": {
   "display_name": "Python 3 (ipykernel)",
   "language": "python",
   "name": "python3"
  },
  "language_info": {
   "codemirror_mode": {
    "name": "ipython",
    "version": 3
   },
   "file_extension": ".py",
   "mimetype": "text/x-python",
   "name": "python",
   "nbconvert_exporter": "python",
   "pygments_lexer": "ipython3",
   "version": "3.7.9"
  }
 },
 "nbformat": 4,
 "nbformat_minor": 5
}
